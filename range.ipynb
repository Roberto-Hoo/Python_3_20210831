{
 "cells": [
  {
   "cell_type": "markdown",
   "source": [
    "# Python range() with examples\n",
    "\n",
    "Now, let see all the possible scenarios.\n",
    "Below are the three variants of range().\n",
    "\n",
    "### 1) range(stop)\n",
    "When you pass only one argument to the range(), it will generate a\n",
    "sequence of integers starting from **zero** to **stop-1**\n",
    "\n",
    "Isto é de zero(incluso) até stop(excluso)\n",
    "Note:\n",
    "Here, start = 0 and step = 1 as a default value.\n",
    "If you set the stop as a 0 or some negative value, then the range\n",
    "will return an empty sequence.\n",
    "If you want to start the range at 1 use range(1, 10)."
   ],
   "metadata": {
    "collapsed": false,
    "pycharm": {
     "name": "#%% md\n"
    }
   }
  },
  {
   "cell_type": "code",
   "execution_count": 18,
   "outputs": [
    {
     "name": "stdout",
     "output_type": "stream",
     "text": [
      "0 1 2 3 4 5 6 7 8 9 "
     ]
    }
   ],
   "source": [
    "# Print first 10 numbers\n",
    "# stop = 10\n",
    "for i in range(10):\n",
    "    print(i, end=' ')\n",
    "# Output 0 1 2 3 4 5 6 7 8 9"
   ],
   "metadata": {
    "collapsed": false,
    "pycharm": {
     "name": "#%%\n"
    }
   }
  },
  {
   "cell_type": "markdown",
   "source": [
    "### 2) range(start, stop)\n",
    "\n",
    "When you pass two arguments to the range(), it will generate\n",
    "integers starting from the **start** number to **stop -1**.\n",
    "\n",
    "Note:\n",
    "\n",
    "* Here, the step = 1 as a default value.\n",
    "* The range will return an empty sequence if you set the stop\n",
    "  value lesser than the start."
   ],
   "metadata": {
    "collapsed": false
   }
  },
  {
   "cell_type": "code",
   "execution_count": 21,
   "outputs": [
    {
     "name": "stdout",
     "output_type": "stream",
     "text": [
      "10 11 12 13 14 15 16 17 18 19 20 21 22 23 24 25 "
     ]
    }
   ],
   "source": [
    "# Numbers from 10 to 25\n",
    "# start = 10\n",
    "# stop = 26\n",
    "for i in range(10, 26):\n",
    "    print(i, end=' ')\n",
    "# Output 10 11 12 13 14 15"
   ],
   "metadata": {
    "collapsed": false,
    "pycharm": {
     "name": "#%%\n"
    }
   }
  },
  {
   "cell_type": "markdown",
   "source": [
    "### 3) range(start, stop, step)\n",
    "\n",
    "When you pass all three arguments to the range(), it will return\n",
    "a sequence of numbers, starting from the **start number**,\n",
    "increments by **step number**, and stops **before a stop number**.\n",
    "\n",
    "Here you can specify a different increment by adding a step\n",
    ".\n"
   ],
   "metadata": {
    "collapsed": false
   }
  },
  {
   "cell_type": "code",
   "execution_count": 25,
   "outputs": [
    {
     "name": "stdout",
     "output_type": "stream",
     "text": [
      "8 13 18 23 28 33 38 43 48 53 "
     ]
    }
   ],
   "source": [
    "# Numbers from 8 to 53\n",
    "# start = 8\n",
    "# stop = 58\n",
    "# step = 5\n",
    "for i in range(8, 58, 5):\n",
    "    print(i, end=' ')\n",
    "# Output 8 13 18 33 38 43 48 53"
   ],
   "metadata": {
    "collapsed": false,
    "pycharm": {
     "name": "#%%\n"
    }
   }
  },
  {
   "cell_type": "markdown",
   "source": [
    "### <span style='background:yellow;color:Blue'> Points to remember about range() function.  </span>\n",
    "\n",
    "* The range() function only works with the integers,\n",
    "so all arguments must be integers. You can not use float numbers or any other data type as a start, stop, and step value.\n",
    "    Please refer to generate a range of float numbers in Python.\n",
    "* All three arguments can be positive or negative.\n",
    "* The step value must not be zero. If a step=0, Python will raise a ValueError exceptio\n"
   ],
   "metadata": {
    "collapsed": false
   }
  }
 ],
 "metadata": {
  "kernelspec": {
   "display_name": "Python 3",
   "language": "python",
   "name": "python3"
  },
  "language_info": {
   "codemirror_mode": {
    "name": "ipython",
    "version": 2
   },
   "file_extension": ".py",
   "mimetype": "text/x-python",
   "name": "python",
   "nbconvert_exporter": "python",
   "pygments_lexer": "ipython2",
   "version": "2.7.6"
  }
 },
 "nbformat": 4,
 "nbformat_minor": 0
}