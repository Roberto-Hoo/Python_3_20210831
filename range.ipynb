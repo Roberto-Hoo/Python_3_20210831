{
 "cells": [
  {
   "cell_type": "markdown",
   "source": [
    "# Python range() with examples\n",
    "\n",
    "Now, let see all the possible scenarios.\n",
    "Below are the three variants of range().\n",
    "\n",
    "### 1) range(stop)\n",
    "When you pass only one argument to the range(), it will generate a\n",
    "sequence of integers starting from\n",
    "#### 0\n",
    " to\n",
    "#### stop-1\n",
    "\n",
    "Isto é de zero(incluso) até stop(excluso)\n",
    "\n",
    "Note:\n",
    "\n",
    "Here, start = 0 and step = 1 as a default value.\n",
    "If you set the stop as a 0 or some negative value, then the range\n",
    "will return an empty sequence.\n",
    "If you want to start the range at 1 use range(1, 10)."
   ],
   "metadata": {
    "collapsed": false,
    "pycharm": {
     "name": "#%% md\n"
    }
   }
  },
  {
   "cell_type": "code",
   "execution_count": 13,
   "outputs": [
    {
     "name": "stdout",
     "output_type": "stream",
     "text": [
      "0 1 2 3 4 5 6 7 8 9 "
     ]
    }
   ],
   "source": [
    "# Print first 10 numbers\n",
    "# stop = 10\n",
    "for i in range(10):\n",
    "    print(i, end=' ')\n",
    "# Output 0 1 2 3 4 5 6 7 8 9"
   ],
   "metadata": {
    "collapsed": false,
    "pycharm": {
     "name": "#%%\n"
    }
   }
  },
  {
   "cell_type": "markdown",
   "source": [
    "### 2)range(start, stop)\n",
    "\n",
    "When you pass two arguments to the range(), it will generate\n",
    "integers starting from the **start** number to **stop -1**.\n",
    "\n",
    "Note:\n",
    "\n",
    "* Here, the step = 1 as a default value.\n",
    "* The range will return an empty sequence if you set the stop\n",
    "  value lesser than the start."
   ],
   "metadata": {
    "collapsed": false
   }
  },
  {
   "cell_type": "code",
   "execution_count": 15,
   "outputs": [
    {
     "name": "stdout",
     "output_type": "stream",
     "text": [
      "10 11 12 13 14 15 "
     ]
    }
   ],
   "source": [
    "# Numbers from 10 to 15\n",
    "# start = 10\n",
    "# stop = 16\n",
    "for i in range(10, 16):\n",
    "    print(i, end=' ')\n",
    "# Output 10 11 12 13 14 15\n"
   ],
   "metadata": {
    "collapsed": false,
    "pycharm": {
     "name": "#%%\n"
    }
   }
  }
 ],
 "metadata": {
  "kernelspec": {
   "display_name": "Python 3",
   "language": "python",
   "name": "python3"
  },
  "language_info": {
   "codemirror_mode": {
    "name": "ipython",
    "version": 2
   },
   "file_extension": ".py",
   "mimetype": "text/x-python",
   "name": "python",
   "nbconvert_exporter": "python",
   "pygments_lexer": "ipython2",
   "version": "2.7.6"
  }
 },
 "nbformat": 4,
 "nbformat_minor": 0
}