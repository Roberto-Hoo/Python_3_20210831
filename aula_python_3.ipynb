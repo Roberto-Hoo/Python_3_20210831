{
 "cells": [
  {
   "cell_type": "markdown",
   "metadata": {
    "id": "ljXY_uMvAjnQ"
   },
   "source": [
    "# Revisão"
   ]
  },
  {
   "cell_type": "markdown",
   "metadata": {
    "id": "6-SS9oYplrWc"
   },
   "source": [
    "**Comando if**"
   ]
  },
  {
   "cell_type": "code",
   "execution_count": 41,
   "metadata": {
    "id": "A0G3B9ZJAjnS"
   },
   "outputs": [
    {
     "name": "stdout",
     "output_type": "stream",
     "text": [
      "x é positivo\n"
     ]
    }
   ],
   "source": [
    "x=20\n",
    "if x < 0:\n",
    "    print(\"x é negativo\")\n",
    "elif x == 0:\n",
    "    print(\"x é igual a zero\")\n",
    "else:\n",
    "    print(\"x é positivo\")"
   ]
  },
  {
   "cell_type": "markdown",
   "metadata": {
    "id": "rDcM_EXKAjnX"
   },
   "source": [
    "**Comando for**"
   ]
  },
  {
   "cell_type": "code",
   "execution_count": 42,
   "metadata": {
    "id": "4YUjgHYdAjnd"
   },
   "outputs": [
    {
     "name": "stdout",
     "output_type": "stream",
     "text": [
      "João 4\n",
      "Maria 5\n",
      "José 4\n",
      "Ana 3\n"
     ]
    }
   ],
   "source": [
    "alunos=['João', 'Maria', 'José', 'Ana']\n",
    "for nome in alunos:\n",
    "    print(nome,len(nome))"
   ]
  },
  {
   "cell_type": "code",
   "execution_count": 73,
   "metadata": {
    "id": "dTMnQ6lrAjnZ"
   },
   "outputs": [
    {
     "name": "stdout",
     "output_type": "stream",
     "text": [
      "2\n",
      "7\n",
      "9\n",
      "25\n",
      "48\n"
     ]
    }
   ],
   "source": [
    "ll=[2,7,9,25,48]\n",
    "for i in ll:\n",
    "    print(i)"
   ]
  },
  {
   "cell_type": "markdown",
   "metadata": {
    "id": "SUqLRp-yAjnn"
   },
   "source": [
    "**Função range()**"
   ]
  },
  {
   "cell_type": "code",
   "execution_count": 44,
   "metadata": {
    "id": "AOJ5aYcnAjns"
   },
   "outputs": [
    {
     "name": "stdout",
     "output_type": "stream",
     "text": [
      "2\n",
      "5\n",
      "8\n"
     ]
    }
   ],
   "source": [
    "for k in range(2,9,3):\n",
    "    print(k)"
   ]
  },
  {
   "cell_type": "code",
   "execution_count": 75,
   "metadata": {
    "id": "SKSgF7iTAjnw"
   },
   "outputs": [
    {
     "name": "stdout",
     "output_type": "stream",
     "text": [
      "2\n",
      "7\n",
      "9\n",
      "25\n",
      "48\n"
     ]
    }
   ],
   "source": [
    "for i in range(len(ll)):\n",
    "    print(ll[i])"
   ]
  },
  {
   "cell_type": "markdown",
   "metadata": {
    "id": "tSHsAf_6Ajn-"
   },
   "source": [
    "**Comandos break e continue**"
   ]
  },
  {
   "cell_type": "code",
   "execution_count": 46,
   "metadata": {
    "id": "7-7XEIu0Ajn-"
   },
   "outputs": [
    {
     "name": "stdout",
     "output_type": "stream",
     "text": [
      "p\n",
      "a\n",
      "Fim\n"
     ]
    }
   ],
   "source": [
    "for letra in \"palavra\":\n",
    "    if letra == \"l\":\n",
    "        break\n",
    "    print(letra)\n",
    "\n",
    "print(\"Fim\")"
   ]
  },
  {
   "cell_type": "code",
   "execution_count": 47,
   "metadata": {
    "id": "GBComiZRAjoC"
   },
   "outputs": [
    {
     "name": "stdout",
     "output_type": "stream",
     "text": [
      "p\n",
      "******&&\n",
      "a\n",
      "******&&\n",
      "a\n",
      "******&&\n",
      "v\n",
      "******&&\n",
      "r\n",
      "******&&\n",
      "a\n",
      "******&&\n",
      "Fim\n"
     ]
    }
   ],
   "source": [
    "for letra in \"palavra\":\n",
    "    if letra == \"l\":\n",
    "    #Se a letra é l, não executa o que está abaixo neste ciclo do for\n",
    "        continue\n",
    "    print(letra)\n",
    "    print('******&&')\n",
    "\n",
    "print(\"Fim\")"
   ]
  },
  {
   "cell_type": "markdown",
   "metadata": {
    "id": "GcJ6ffn4AjoG"
   },
   "source": [
    "Podemos usar a cláusula else para loops também!"
   ]
  },
  {
   "cell_type": "code",
   "execution_count": 48,
   "metadata": {
    "id": "aptNZE2QAjoG"
   },
   "outputs": [
    {
     "name": "stdout",
     "output_type": "stream",
     "text": [
      "1\n",
      "2\n",
      "3\n",
      "isto é escrito já que não há break no for :)\n"
     ]
    }
   ],
   "source": [
    "for i in range(1, 4): \n",
    "    print(i) \n",
    "else: \n",
    "    print(\"isto é escrito já que não há break no for :)\") \n",
    "\n"
   ]
  },
  {
   "cell_type": "code",
   "execution_count": 49,
   "metadata": {
    "id": "Z2FBOpowAjoK"
   },
   "outputs": [
    {
     "name": "stdout",
     "output_type": "stream",
     "text": [
      "2 é um número primo\n",
      "3 é um número primo\n",
      "4 igual 2 * 2\n",
      "5 é um número primo\n",
      "6 igual 2 * 3\n",
      "7 é um número primo\n",
      "8 igual 2 * 4\n",
      "9 igual 3 * 3\n",
      "10 igual 2 * 5\n"
     ]
    }
   ],
   "source": [
    "# algoritmo para buscar números primos até 10\n",
    "for n in range(2, 11):    \n",
    "   # print('n é',n) \n",
    "    for x in range(2, n):    # loop de 2 a n-1\n",
    "      #  print('x é',x)\n",
    "        if n % x == 0:       # verifica se n é divisível por x\n",
    "            print(n, 'igual', x, '*', n//x)\n",
    "            break\n",
    "    else:\n",
    "        print(n, 'é um número primo')"
   ]
  },
  {
   "cell_type": "markdown",
   "metadata": {
    "id": "fY0vtBCMAjm1"
   },
   "source": [
    "# Atividade da última aula: sequência de Fibonacci\n"
   ]
  },
  {
   "cell_type": "markdown",
   "metadata": {
    "id": "tlJjjklOzwqD"
   },
   "source": [
    "Um algoritmo para imprimir os 20 primeiros números da Sequência de Fibonacci"
   ]
  },
  {
   "cell_type": "code",
   "execution_count": 50,
   "metadata": {
    "id": "HdAi12dKAjm4"
   },
   "outputs": [
    {
     "name": "stdout",
     "output_type": "stream",
     "text": [
      "0\n",
      "1\n",
      "1\n",
      "2\n",
      "3\n",
      "5\n",
      "8\n",
      "13\n",
      "21\n",
      "34\n",
      "55\n",
      "89\n",
      "144\n",
      "233\n",
      "377\n",
      "610\n",
      "987\n",
      "1597\n",
      "2584\n",
      "4181\n"
     ]
    }
   ],
   "source": [
    "i=0     # define os dois primeiros números da sequência\n",
    "j=1\n",
    "print(i)\n",
    "print(j)\n",
    "contador=3                # inicializa o contador \n",
    "while contador <= 20:     # loop para determinar do terceiro ao vigésimo número da sequência\n",
    "    k=i+j                 # calcula o novo número da sequência k como a soma do último (j) e penúltimo (i) números\n",
    "    print(k)              # imprime novo número calculado\n",
    "    i=j                   # atualiza o i\n",
    "    j=k                   # atualiza o j\n",
    "    contador+=1           # atualiza o contador\n",
    "    "
   ]
  },
  {
   "cell_type": "markdown",
   "metadata": {
    "id": "eFqwVnDE1S7l"
   },
   "source": [
    "Para ajudar na visualização de como o algoritmo funciona\n",
    "\n",
    "$0 ~1 ~1 ~ 2~ 3 ~5 ~8 ... $\n",
    "\n",
    "$i ~ ~j ~k$\n",
    "\n",
    "$~~~ i  ~j ~~k$\n",
    "\n",
    "$~~~~~ i  ~~j ~~k$\n",
    "  \n",
    "\n",
    "\n",
    "\n",
    "\n"
   ]
  },
  {
   "cell_type": "markdown",
   "metadata": {
    "id": "mU_Lpgjpzvjy"
   },
   "source": [
    "Um algoritmo para imprimir os 20 primeiros números da Sequência de Fibonacci (mesmo algoritmo que o acima, só um pouco mais conciso)"
   ]
  },
  {
   "cell_type": "code",
   "execution_count": 51,
   "metadata": {
    "id": "GpDlWP94AjnB"
   },
   "outputs": [
    {
     "name": "stdout",
     "output_type": "stream",
     "text": [
      "0\n",
      "1\n",
      "1\n",
      "2\n",
      "3\n",
      "5\n",
      "8\n",
      "13\n",
      "21\n",
      "34\n",
      "55\n",
      "89\n",
      "144\n",
      "233\n",
      "377\n",
      "610\n",
      "987\n",
      "1597\n",
      "2584\n",
      "4181\n"
     ]
    }
   ],
   "source": [
    "i,j=0,1\n",
    "print(i)\n",
    "print(j)\n",
    "contador=3\n",
    "while contador <= 20:\n",
    "    print(i+j)\n",
    "    i,j=j,i+j   # atualiza variáveis i e j\n",
    "    contador+=1"
   ]
  },
  {
   "cell_type": "markdown",
   "metadata": {
    "id": "MqEtKCmCKWJd"
   },
   "source": [
    "Mesmo algoritmo do exemplo acima, mas agora com um loop for"
   ]
  },
  {
   "cell_type": "code",
   "execution_count": 52,
   "metadata": {
    "id": "XBBv8ybQKA4J"
   },
   "outputs": [
    {
     "name": "stdout",
     "output_type": "stream",
     "text": [
      "0\n",
      "1\n",
      "1\n",
      "2\n",
      "3\n",
      "5\n",
      "8\n",
      "13\n",
      "21\n",
      "34\n",
      "55\n",
      "89\n",
      "144\n",
      "233\n",
      "377\n",
      "610\n",
      "987\n",
      "1597\n",
      "2584\n",
      "4181\n"
     ]
    }
   ],
   "source": [
    "i,j=0,1\n",
    "print(i)\n",
    "print(j)\n",
    "for m in range(3,21):\n",
    "    print(i+j)\n",
    "    i,j=j,i+j   # atualiza simultaneamente as variáveis i e j\n",
    "   "
   ]
  },
  {
   "cell_type": "markdown",
   "metadata": {
    "id": "zNViWM2qz53U"
   },
   "source": [
    "Outro algoritmo para imprimir os 20 primeiros números da Sequência de Fibonacci, agora usando listas\n"
   ]
  },
  {
   "cell_type": "code",
   "execution_count": 53,
   "metadata": {
    "id": "TueXrxjGAjnK"
   },
   "outputs": [
    {
     "name": "stdout",
     "output_type": "stream",
     "text": [
      "[0, 1, 1, 2, 3, 5, 8, 13, 21, 34, 55, 89, 144, 233, 377, 610, 987, 1597, 2584, 4181]\n"
     ]
    }
   ],
   "source": [
    "l=[0,1]   #adiciona os dois primeiros números da sequência na lista l\n",
    "contador=3           # inicializa o contador\n",
    "while contador <= 20:       # loop para determinar do terceiro ao vigésimo número da sequência\n",
    "    l.append(l[-1]+l[-2])   # coloca ao final da lista l a soma dos dois últimos elementos dessa lista\n",
    "   \n",
    "    contador+=1             # atualiza o contador \n",
    "print(l)"
   ]
  },
  {
   "cell_type": "markdown",
   "metadata": {
    "id": "IhY9TJXgAjoQ"
   },
   "source": [
    "# Funções"
   ]
  },
  {
   "cell_type": "markdown",
   "metadata": {
    "id": "EtimU860AjoS"
   },
   "source": [
    "def inicia a definição de uma função"
   ]
  },
  {
   "cell_type": "code",
   "execution_count": 54,
   "metadata": {
    "id": "dCQit_69AjoS"
   },
   "outputs": [
    {
     "name": "stdout",
     "output_type": "stream",
     "text": [
      "Olá! Esta é a minha função!\n"
     ]
    }
   ],
   "source": [
    "def minha_funcao():\n",
    "    print('Olá! Esta é a minha função!')\n",
    "    \n",
    "minha_funcao()"
   ]
  },
  {
   "cell_type": "code",
   "execution_count": 55,
   "metadata": {
    "id": "cTMPua7hAjoV"
   },
   "outputs": [
    {
     "name": "stdout",
     "output_type": "stream",
     "text": [
      "Olá, Cristina! Esta é a minha função! Bem-vinda!\n"
     ]
    }
   ],
   "source": [
    "def minha_funcao_com_argumentos(nome,saudacao):\n",
    "    print('Olá, %s! Esta é a minha função! %s'%(nome,saudacao))\n",
    "    \n",
    "minha_funcao_com_argumentos('Cristina','Bem-vinda!')"
   ]
  },
  {
   "cell_type": "markdown",
   "metadata": {
    "id": "FU0kJd1sAjoZ"
   },
   "source": [
    "Funções podem retornar um valor, utilizando o comando return"
   ]
  },
  {
   "cell_type": "code",
   "execution_count": 56,
   "metadata": {
    "id": "JSF5dJzsAjoa"
   },
   "outputs": [
    {
     "data": {
      "text/plain": "10"
     },
     "execution_count": 56,
     "metadata": {},
     "output_type": "execute_result"
    }
   ],
   "source": [
    "def soma(a,b):\n",
    "    return a+b\n",
    "\n",
    "soma(3,7)"
   ]
  },
  {
   "cell_type": "markdown",
   "metadata": {
    "id": "afSCx40qAjod"
   },
   "source": [
    "Funções com argumentos com valor padrão:"
   ]
  },
  {
   "cell_type": "code",
   "execution_count": 57,
   "metadata": {
    "id": "n51Q67xEAjoe"
   },
   "outputs": [
    {
     "name": "stdout",
     "output_type": "stream",
     "text": [
      "Olá, Cristina! Esta é a minha função! Bem-vinda!\n"
     ]
    }
   ],
   "source": [
    "def minha_funcao_com_argumentos_padrao(nome='Fulano',saudacao='Seja feliz!'):\n",
    "    print('Olá, %s! Esta é a minha função! %s'%(nome,saudacao))\n",
    "    \n",
    "minha_funcao_com_argumentos_padrao('Cristina','Bem-vinda!')\n"
   ]
  },
  {
   "cell_type": "code",
   "execution_count": 58,
   "metadata": {
    "id": "HiLpHSVl4T6z"
   },
   "outputs": [
    {
     "name": "stdout",
     "output_type": "stream",
     "text": [
      "Olá, Cristina! Esta é a minha função! Seja feliz!\n"
     ]
    }
   ],
   "source": [
    "minha_funcao_com_argumentos_padrao('Cristina')\n"
   ]
  },
  {
   "cell_type": "code",
   "execution_count": 59,
   "metadata": {
    "id": "EL2PvA6m4WDm"
   },
   "outputs": [
    {
     "name": "stdout",
     "output_type": "stream",
     "text": [
      "Olá, Fulano! Esta é a minha função! Seja feliz!\n"
     ]
    }
   ],
   "source": [
    "minha_funcao_com_argumentos_padrao()"
   ]
  },
  {
   "cell_type": "markdown",
   "metadata": {
    "id": "QGE9uVUhAjoi"
   },
   "source": [
    "Função para escrever sequência de Fibonacci até o número n:"
   ]
  },
  {
   "cell_type": "code",
   "execution_count": 60,
   "metadata": {
    "id": "vXzUFIisAjoi"
   },
   "outputs": [
    {
     "data": {
      "text/plain": "<function __main__.fib(n)>"
     },
     "execution_count": 60,
     "metadata": {},
     "output_type": "execute_result"
    }
   ],
   "source": [
    "def fib(n): \n",
    "    \"\"\"Imprime os números da sequência de Fibonacci ATÉ o número n.\n",
    "     \n",
    "     Isto é uma String de documentação (docstring). \n",
    "     Algumas ferramentas de documentação utilizam as docstrings para produzir \n",
    "     automaticamente a documentação online ou permitir que o usuário navegue \n",
    "     mais facilmente pelo código. \n",
    "     \n",
    "     É uma boa prática de programação incluir sempre docstrings nas suas funções!! ;)\n",
    "    \n",
    "    \"\"\"\n",
    "    i, j = 0, 1\n",
    "    while i < n:\n",
    "        print(i, end=' ')  #O argumento end pode ser usado para evitar uma nova linha após a saída\n",
    "        i,j=j,i+j\n",
    "\n",
    "fib\n"
   ]
  },
  {
   "cell_type": "code",
   "execution_count": 61,
   "metadata": {
    "id": "WW1sCiNl4hTI"
   },
   "outputs": [
    {
     "name": "stdout",
     "output_type": "stream",
     "text": [
      "0 1 1 2 3 5 8 13 "
     ]
    }
   ],
   "source": [
    "fib(20)"
   ]
  },
  {
   "cell_type": "code",
   "execution_count": 62,
   "metadata": {
    "id": "b00DXW-u4iSk"
   },
   "outputs": [],
   "source": [
    "fib(0)"
   ]
  },
  {
   "cell_type": "code",
   "execution_count": 63,
   "metadata": {
    "id": "6PmFPfm04iym"
   },
   "outputs": [
    {
     "name": "stdout",
     "output_type": "stream",
     "text": [
      "None\n"
     ]
    }
   ],
   "source": [
    "print(fib(0))  #Mesmo funções que não usam o comando return devolvem um valor. "
   ]
  },
  {
   "cell_type": "markdown",
   "metadata": {
    "id": "s3peeHjTAjom"
   },
   "source": [
    "Podemos escrever uma função que devolve uma lista de números da sequência de Fibonacci:"
   ]
  },
  {
   "cell_type": "code",
   "execution_count": 64,
   "metadata": {
    "id": "ilzm5H8qAjom"
   },
   "outputs": [
    {
     "data": {
      "text/plain": "[0, 1, 1, 2, 3, 5, 8, 13]"
     },
     "execution_count": 64,
     "metadata": {},
     "output_type": "execute_result"
    }
   ],
   "source": [
    "def fib_lista(n): \n",
    "    \"\"\"\n",
    "    Função que retorna uma lista contendo os números da sequência de Fibonacci \n",
    "    até o número n.\n",
    "    \"\"\"\n",
    "    lista=[]\n",
    "    i, j = 0, 1\n",
    "    while i < n:\n",
    "        lista.append(i)\n",
    "        i,j=j,i+j\n",
    "    return lista\n",
    "\n",
    "\n",
    "f20=fib_lista(20)\n",
    "f20"
   ]
  },
  {
   "cell_type": "code",
   "execution_count": 65,
   "metadata": {
    "id": "HmBDXuxhwHj_"
   },
   "outputs": [
    {
     "data": {
      "text/plain": "[0, 1, 1, 2, 3, 5, 8, 13]"
     },
     "execution_count": 65,
     "metadata": {},
     "output_type": "execute_result"
    }
   ],
   "source": [
    "fib_lista(20)"
   ]
  },
  {
   "cell_type": "markdown",
   "metadata": {
    "id": "i5a7z204Ajop"
   },
   "source": [
    "O comando return finaliza a execução da função e retorna o seu valor. return sem qualquer expressão como argumento \n",
    "devolve None e se a função atinge o final e não há comando return, ela também devolve None.\n",
    "Exemplo:"
   ]
  },
  {
   "cell_type": "code",
   "execution_count": 66,
   "metadata": {
    "id": "UbtCnvnWAjoq"
   },
   "outputs": [
    {
     "name": "stdout",
     "output_type": "stream",
     "text": [
      "Olá! Esta é a minha função!\n",
      "None\n"
     ]
    }
   ],
   "source": [
    "print(minha_funcao())"
   ]
  },
  {
   "cell_type": "code",
   "execution_count": 67,
   "metadata": {
    "id": "MmDgQGWIAjou"
   },
   "outputs": [
    {
     "name": "stdout",
     "output_type": "stream",
     "text": [
      "Tente novamente!\n",
      "Tente novamente!\n",
      "Resposta inválida\n"
     ]
    }
   ],
   "source": [
    "def verificacao(pergunta, tentativas=2, lembrete='Tente novamente!'):\n",
    "    while True:\n",
    "        resposta = input(pergunta)\n",
    "        if resposta in ('s', 'si', 'sim'):\n",
    "            return True\n",
    "        if resposta in ('n', 'na', 'não', 'nao'):\n",
    "            return False\n",
    "        tentativas = tentativas - 1\n",
    "        if tentativas < 0:\n",
    "            print('Resposta inválida')\n",
    "            break\n",
    "        print(lembrete)\n",
    " \n",
    "verificacao('Você deseja cancelar?')\n"
   ]
  },
  {
   "cell_type": "markdown",
   "metadata": {
    "id": "r01ImehOAjox"
   },
   "source": [
    "No exemplo acima introduzimos a palavra-chave in, que verifica se uma sequência contém ou não um determinado valor. \n",
    "Também introduzimos a função input, que recebe um valor dado pelo usuário. É preciso pressionar Enter para o código prosseguir após fornecer o valor para a função input. A função input possui um parâmetro opcional, conhecido como prompt, que é uma string que aparece na tela toda vez que a função é chamada. \n",
    "\n",
    "Na função acima, o argumento 'pergunta' é obrigatório e os outros argumentos, na forma chave=valor, são opcionais. A função pode ser chamada das seguintes formas:"
   ]
  },
  {
   "cell_type": "code",
   "execution_count": 68,
   "metadata": {
    "id": "LCqpd-P1Ajox"
   },
   "outputs": [
    {
     "name": "stdout",
     "output_type": "stream",
     "text": [
      "Tente novamente!\n",
      "Resposta inválida\n"
     ]
    }
   ],
   "source": [
    "verificacao('Você deseja salvar o arquivo?',1)"
   ]
  },
  {
   "cell_type": "code",
   "execution_count": 69,
   "metadata": {
    "id": "NsRW6wOs5Bce"
   },
   "outputs": [
    {
     "name": "stdout",
     "output_type": "stream",
     "text": [
      "É assim tão difícil digitar sim ou não?\n",
      "É assim tão difícil digitar sim ou não?\n",
      "Resposta inválida\n"
     ]
    }
   ],
   "source": [
    "verificacao('Você deseja salvar o arquivo?',lembrete='É assim tão difícil digitar sim ou não?')"
   ]
  },
  {
   "cell_type": "code",
   "execution_count": 70,
   "metadata": {
    "id": "Ks_xFlNhAjo1"
   },
   "outputs": [
    {
     "name": "stdout",
     "output_type": "stream",
     "text": [
      "Responda sim ou não!!\n",
      "Resposta inválida\n"
     ]
    }
   ],
   "source": [
    "verificacao('Você deseja salvar o arquivo?',1, 'Responda sim ou não!!')"
   ]
  },
  {
   "cell_type": "code",
   "execution_count": 71,
   "metadata": {
    "id": "JsuEQkDKAjo7"
   },
   "outputs": [
    {
     "name": "stdout",
     "output_type": "stream",
     "text": [
      "Tente mais uma vez\n",
      "Tente mais uma vez\n",
      "Resposta inválida\n"
     ]
    }
   ],
   "source": [
    "verificacao(lembrete='Tente mais uma vez', pergunta='Você deseja sobrescrever o arquivo?')"
   ]
  },
  {
   "cell_type": "markdown",
   "metadata": {
    "id": "I82Y1IejAjo9"
   },
   "source": [
    "Já as seguintes formas de chamar a função verificação são inválidas:"
   ]
  },
  {
   "cell_type": "code",
   "execution_count": 72,
   "metadata": {
    "id": "2-RHMIpdAjo-"
   },
   "outputs": [
    {
     "ename": "TypeError",
     "evalue": "verificacao() missing 1 required positional argument: 'pergunta'",
     "output_type": "error",
     "traceback": [
      "\u001B[1;31m---------------------------------------------------------------------------\u001B[0m",
      "\u001B[1;31mTypeError\u001B[0m                                 Traceback (most recent call last)",
      "\u001B[1;32mC:\\Users\\ROBERT~1\\AppData\\Local\\Temp/ipykernel_10228/1228197568.py\u001B[0m in \u001B[0;36m<module>\u001B[1;34m\u001B[0m\n\u001B[1;32m----> 1\u001B[1;33m \u001B[0mverificacao\u001B[0m\u001B[1;33m(\u001B[0m\u001B[1;33m)\u001B[0m\u001B[1;33m\u001B[0m\u001B[1;33m\u001B[0m\u001B[0m\n\u001B[0m\u001B[0;32m      2\u001B[0m \u001B[1;33m\u001B[0m\u001B[0m\n",
      "\u001B[1;31mTypeError\u001B[0m: verificacao() missing 1 required positional argument: 'pergunta'"
     ]
    }
   ],
   "source": [
    "verificacao()"
   ]
  },
  {
   "cell_type": "code",
   "execution_count": null,
   "metadata": {
    "id": "txyx7x2lAjpB"
   },
   "outputs": [],
   "source": [
    "verificacao(question='Tem certeza que deseja excluir?')"
   ]
  },
  {
   "cell_type": "code",
   "execution_count": null,
   "metadata": {
    "id": "_T5B7XXiAjpD"
   },
   "outputs": [],
   "source": [
    "verificacao('Tem certeza?',pergunta='isso mesmo?')"
   ]
  },
  {
   "cell_type": "markdown",
   "metadata": {
    "id": "inO1hv-gAjpH"
   },
   "source": [
    "Funções anônimas podem ser criadas com a palavra-chave lambda. As funções lambdas são restritas a uma única (em geral pequena) expressão. "
   ]
  },
  {
   "cell_type": "code",
   "execution_count": null,
   "metadata": {
    "id": "fbuRN88sAjpI"
   },
   "outputs": [],
   "source": [
    "def quadrado(x):\n",
    "    return x**2\n",
    "\n",
    "f=quadrado(7)\n",
    "print(f)"
   ]
  },
  {
   "cell_type": "code",
   "execution_count": null,
   "metadata": {
    "id": "Om6ZHH1hAjpK"
   },
   "outputs": [],
   "source": [
    "f2 = lambda x: x**2\n",
    "\n",
    "f2(6)"
   ]
  },
  {
   "cell_type": "code",
   "execution_count": null,
   "metadata": {
    "id": "Gz9fgSn0AjpN"
   },
   "outputs": [],
   "source": [
    "f_soma = lambda a,b: a+b\n",
    "f_soma(5,9)"
   ]
  },
  {
   "cell_type": "code",
   "execution_count": null,
   "metadata": {
    "id": "seFlMTJsAjpP"
   },
   "outputs": [],
   "source": [
    "def incrementar(n):\n",
    "    return lambda x: x+n\n",
    "\n",
    "f=incrementar(6)\n",
    "f(9)"
   ]
  },
  {
   "cell_type": "code",
   "execution_count": null,
   "metadata": {
    "id": "7THXVMiRVgkn"
   },
   "outputs": [],
   "source": [
    "f3=lambda x: x+4\n",
    "f3(9)"
   ]
  },
  {
   "cell_type": "markdown",
   "metadata": {
    "id": "t7GkIPsGR3Ky"
   },
   "source": [
    "# Estrutura de dados\n"
   ]
  },
  {
   "cell_type": "markdown",
   "metadata": {
    "id": "M-wz84F6AjpS"
   },
   "source": [
    "Veja a seguir mais métodos de objetos do tipo lista:"
   ]
  },
  {
   "cell_type": "code",
   "execution_count": null,
   "metadata": {
    "id": "M0dBIpdnAjpT"
   },
   "outputs": [],
   "source": [
    "l=[5,18,43,77,91,18,77]"
   ]
  },
  {
   "cell_type": "markdown",
   "metadata": {
    "id": "UvpCBAtv5SxJ"
   },
   "source": [
    "Adicionar um elemento ao final da lista"
   ]
  },
  {
   "cell_type": "code",
   "execution_count": null,
   "metadata": {
    "id": "35dmXc7HAjpU"
   },
   "outputs": [],
   "source": [
    "l.append(100)\n",
    "print(l)"
   ]
  },
  {
   "cell_type": "markdown",
   "metadata": {
    "id": "kBQ6c7aF5XIz"
   },
   "source": [
    "Inserir um elemento em uma dada posição. Nesse caso insere o elemento 9 na posição de índice 1. "
   ]
  },
  {
   "cell_type": "code",
   "execution_count": null,
   "metadata": {
    "id": "MWCEvzVCAjpX"
   },
   "outputs": [],
   "source": [
    "l.insert(1,9)\n",
    "print(l)"
   ]
  },
  {
   "cell_type": "markdown",
   "metadata": {
    "id": "ketvtP0d5egJ"
   },
   "source": [
    "Remover o primeiro elemento da lista que tem valor igual ao argumento (nesse caso remove o elemento 18)"
   ]
  },
  {
   "cell_type": "code",
   "execution_count": null,
   "metadata": {
    "id": "L5FW-aTZAjpZ"
   },
   "outputs": [],
   "source": [
    "l.remove(18)\n",
    "print(l)"
   ]
  },
  {
   "cell_type": "markdown",
   "metadata": {
    "id": "mpHysBmk5ith"
   },
   "source": [
    "Contar o número de vezes que um elemento aparece na lista"
   ]
  },
  {
   "cell_type": "code",
   "execution_count": null,
   "metadata": {
    "id": "M0HpH6lfAjpb"
   },
   "outputs": [],
   "source": [
    "l.count(77)"
   ]
  },
  {
   "cell_type": "code",
   "execution_count": null,
   "metadata": {
    "id": "CtsfVI2DAjpd"
   },
   "outputs": [],
   "source": [
    "print(l)"
   ]
  },
  {
   "cell_type": "markdown",
   "metadata": {
    "id": "8oQ_C1OY5nys"
   },
   "source": [
    "Remover o elemento em uma dada posição. Esse método remove o elemento e o retorna. \n",
    "\n",
    "Nesse caso remove o elemento de índice 1."
   ]
  },
  {
   "cell_type": "code",
   "execution_count": null,
   "metadata": {
    "id": "X7tAe3_JAjph"
   },
   "outputs": [],
   "source": [
    "l.pop(1)"
   ]
  },
  {
   "cell_type": "code",
   "execution_count": null,
   "metadata": {
    "id": "pMuZwicKAjpj"
   },
   "outputs": [],
   "source": [
    "print(l)"
   ]
  },
  {
   "cell_type": "markdown",
   "metadata": {
    "id": "6lKosaGq5sAf"
   },
   "source": [
    "Devolver o índice do primeiro elemento cujo valor é igual ao argumento (nesse caso 91)\n"
   ]
  },
  {
   "cell_type": "code",
   "execution_count": null,
   "metadata": {
    "id": "DcXX3HjpAjpl"
   },
   "outputs": [],
   "source": [
    "l.index(91)"
   ]
  },
  {
   "cell_type": "code",
   "execution_count": null,
   "metadata": {
    "id": "kK9a4QLKAjpn"
   },
   "outputs": [],
   "source": [
    "l.index(77)"
   ]
  },
  {
   "cell_type": "code",
   "execution_count": null,
   "metadata": {
    "id": "_-arrobkAjpr"
   },
   "outputs": [],
   "source": [
    "l.index(53)"
   ]
  },
  {
   "cell_type": "markdown",
   "metadata": {
    "id": "gMzrZ4ok5vT-"
   },
   "source": [
    "Ordenar os elementos da lista"
   ]
  },
  {
   "cell_type": "code",
   "execution_count": null,
   "metadata": {
    "id": "kQNU2RfZAjpu"
   },
   "outputs": [],
   "source": [
    "l.sort()\n",
    "print(l)"
   ]
  },
  {
   "cell_type": "markdown",
   "metadata": {
    "id": "q12Heplp50FX"
   },
   "source": [
    "Ordenar em ordem reversa"
   ]
  },
  {
   "cell_type": "code",
   "execution_count": null,
   "metadata": {
    "id": "tKWkBFanAjpv"
   },
   "outputs": [],
   "source": [
    "l=[5, 43, 77, 91, 18, 77, 100]\n",
    "l.sort(reverse=True)  \n",
    "print(l)"
   ]
  },
  {
   "cell_type": "markdown",
   "metadata": {
    "id": "MERcJaMu52xm"
   },
   "source": [
    "Inverter a ordem dos elementos"
   ]
  },
  {
   "cell_type": "code",
   "execution_count": null,
   "metadata": {
    "id": "K5DjtPYXAjpz"
   },
   "outputs": [],
   "source": [
    "l=[5, 43, 77, 91, 18, 77, 100]\n",
    "l.reverse()   \n",
    "print(l)"
   ]
  },
  {
   "cell_type": "markdown",
   "metadata": {
    "id": "npdHfX7M55wd"
   },
   "source": [
    "Copiar os elementos da lista"
   ]
  },
  {
   "cell_type": "code",
   "execution_count": null,
   "metadata": {
    "id": "EHe-Ld7aAjp0"
   },
   "outputs": [],
   "source": [
    "l_c=l.copy()\n",
    "print(l_c)"
   ]
  },
  {
   "cell_type": "markdown",
   "metadata": {
    "id": "3ublU86359WV"
   },
   "source": [
    "Para iterar sobre uma lista, a posição e o valor podem ser obtidos simultaneamente com a função enumerate()"
   ]
  },
  {
   "cell_type": "code",
   "execution_count": null,
   "metadata": {
    "id": "ygVfCTsf6dlV"
   },
   "outputs": [],
   "source": []
  },
  {
   "cell_type": "code",
   "execution_count": null,
   "metadata": {
    "id": "8SE0oFJnAjp4"
   },
   "outputs": [],
   "source": [
    "for i, v in enumerate(l_c):\n",
    "    print(i,v)"
   ]
  },
  {
   "cell_type": "markdown",
   "metadata": {
    "id": "CR9ExcOM6AG5"
   },
   "source": [
    "Para percorrer duas ou mais listas ao mesmo tempo, as entradas podem ser pareadas com a função zip()"
   ]
  },
  {
   "cell_type": "code",
   "execution_count": null,
   "metadata": {
    "id": "mWfPRvksAjqG"
   },
   "outputs": [],
   "source": [
    "l1=[2.5,3.9,8.7]\n",
    "l2=[8.7,23.4,12.5]\n",
    "for a,b in zip(l1,l2):\n",
    "    print(a,b)"
   ]
  },
  {
   "cell_type": "markdown",
   "metadata": {
    "id": "Qhj65A9N6C-B"
   },
   "source": [
    "Uma lista pode ser percorrida na ordem inversa com a função reversed()"
   ]
  },
  {
   "cell_type": "code",
   "execution_count": null,
   "metadata": {
    "id": "dcWE2-2BAjqH"
   },
   "outputs": [],
   "source": [
    "for z in reversed(range(10)):\n",
    "    print(z)"
   ]
  },
  {
   "cell_type": "markdown",
   "metadata": {
    "id": "0uFGhbyOW5RX"
   },
   "source": [
    "# Atividade\n"
   ]
  },
  {
   "cell_type": "markdown",
   "metadata": {
    "id": "0bUahQeAW7wM"
   },
   "source": [
    "**Exercício 1:**\n",
    "\n",
    "Responda ao questionário que está no Moodle.\n",
    "\n",
    "**Exercício 2:**\n",
    "\n",
    "Em Python, peça para o usuário entrar com um valor de temperatura em Celsius, transforme para Fahrenheit e imprima o valor na tela. Use uma função em Python para realizar a conversão de temperaturas. (Não é necessário entregar)\n",
    "\n",
    "**Exercício 3:**\n",
    "\n",
    "Crie uma função em Python para determinar os zeros da equação de segundo grau a*x**2 + b*x + c = 0. Não esqueça de levar em consideração as limitações e ambiguidades do algoritmo que fará este cálculo. (Não é necessário entregar)"
   ]
  }
 ],
 "metadata": {
  "colab": {
   "collapsed_sections": [],
   "name": "aula_python_3.ipynb",
   "provenance": []
  },
  "kernelspec": {
   "display_name": "Python 3",
   "language": "python",
   "name": "python3"
  },
  "language_info": {
   "codemirror_mode": {
    "name": "ipython",
    "version": 3
   },
   "file_extension": ".py",
   "mimetype": "text/x-python",
   "name": "python",
   "nbconvert_exporter": "python",
   "pygments_lexer": "ipython3",
   "version": "3.8.5"
  }
 },
 "nbformat": 4,
 "nbformat_minor": 1
}