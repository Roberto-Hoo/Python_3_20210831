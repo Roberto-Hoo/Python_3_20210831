{
 "cells": [
  {
   "cell_type": "markdown",
   "source": [
    "# Revisão"
   ],
   "metadata": {
    "id": "ljXY_uMvAjnQ"
   }
  },
  {
   "cell_type": "markdown",
   "source": [
    "**Comando if**"
   ],
   "metadata": {
    "id": "6-SS9oYplrWc"
   }
  },
  {
   "cell_type": "code",
   "execution_count": 1,
   "source": [
    "import math\r\n",
    "\r\n",
    "x=20\r\n",
    "if x < 0:\r\n",
    "    print(\"x é negativo\")\r\n",
    "elif x == 0:\r\n",
    "    print(\"x é igual a zero\")\r\n",
    "else:\r\n",
    "    print(\"x é positivo\")"
   ],
   "outputs": [
    {
     "output_type": "stream",
     "name": "stdout",
     "text": [
      "x é positivo\n"
     ]
    }
   ],
   "metadata": {
    "id": "A0G3B9ZJAjnS"
   }
  },
  {
   "cell_type": "markdown",
   "source": [
    "**Comando for**"
   ],
   "metadata": {
    "id": "rDcM_EXKAjnX"
   }
  },
  {
   "cell_type": "code",
   "execution_count": 34,
   "source": [
    "alunos=['João', 'Maria', 'José', 'Ana']\r\n",
    "for nome in alunos:\r\n",
    "    print(nome,len(nome))"
   ],
   "outputs": [
    {
     "output_type": "stream",
     "name": "stdout",
     "text": [
      "João 4\n",
      "Maria 5\n",
      "José 4\n",
      "Ana 3\n"
     ]
    }
   ],
   "metadata": {
    "id": "4YUjgHYdAjnd"
   }
  },
  {
   "cell_type": "code",
   "execution_count": 3,
   "source": [
    "ll=[2,7,9,25,48]\r\n",
    "for i in ll:\r\n",
    "    print(i)\r\n",
    "print('Tamanho da lista ll é: ',len(ll))"
   ],
   "outputs": [
    {
     "output_type": "stream",
     "name": "stdout",
     "text": [
      "2\n",
      "7\n",
      "9\n",
      "25\n",
      "48\n",
      "Tamanho da lista ll é:  5\n"
     ]
    }
   ],
   "metadata": {
    "id": "dTMnQ6lrAjnZ"
   }
  },
  {
   "cell_type": "markdown",
   "source": [
    "## Função range()\n",
    "\n",
    "### 1) range(stop)\n",
    "When you pass only one argument to the range(), it will generate a\n",
    "sequence of integers starting from **zero** to **stop-1**\n",
    "\n",
    "Isto é de zero(incluso) até stop(excluso)\n",
    "Note:\n",
    "Here, start = 0 and step = 1 as a default value.\n",
    "If you set the stop as a 0 or some negative value, then the range\n",
    "will return an empty sequence.\n",
    "If you want to start the range at 1 use range(1, 10).\n",
    "\n",
    "### 2) range(start, stop)\n",
    "\n",
    "When you pass two arguments to the range(), it will generate\n",
    "integers starting from the **start** number to **stop -1**.\n",
    "\n",
    "Note:\n",
    "\n",
    "* Here, the step = 1 as a default value.\n",
    "* The range will return an empty sequence if you set the stop\n",
    "  value lesser than the start.\n",
    "\n",
    "### 3) range(start, stop, step)\n",
    "\n",
    "When you pass all three arguments to the range(), it will return\n",
    "a sequence of numbers, starting from the **start number**,\n",
    "increments by **step number**, and stops **before a stop number**.\n",
    "\n",
    "Here you can specify a different increment by adding a step\n",
    "."
   ],
   "metadata": {
    "id": "SUqLRp-yAjnn"
   }
  },
  {
   "cell_type": "code",
   "execution_count": 35,
   "source": [
    "for k in range(2,9,3):\r\n",
    "    print(k)"
   ],
   "outputs": [
    {
     "output_type": "stream",
     "name": "stdout",
     "text": [
      "2\n",
      "5\n",
      "8\n"
     ]
    }
   ],
   "metadata": {
    "id": "AOJ5aYcnAjns"
   }
  },
  {
   "cell_type": "code",
   "execution_count": 5,
   "source": [
    "print('Tamanho da lista ll é: ',len(ll))\r\n",
    "for i in range(len(ll)):\r\n",
    "    print(ll[i])\r\n",
    "for i in ll:\r\n",
    "    print(i)\r\n"
   ],
   "outputs": [
    {
     "output_type": "stream",
     "name": "stdout",
     "text": [
      "Tamanho da lista ll é:  5\n",
      "2\n",
      "7\n",
      "9\n",
      "25\n",
      "48\n",
      "2\n",
      "7\n",
      "9\n",
      "25\n",
      "48\n"
     ]
    }
   ],
   "metadata": {
    "id": "SKSgF7iTAjnw"
   }
  },
  {
   "cell_type": "markdown",
   "source": [
    "**Comandos break e continue**"
   ],
   "metadata": {
    "id": "tSHsAf_6Ajn-"
   }
  },
  {
   "cell_type": "code",
   "execution_count": 6,
   "source": [
    "for letra in \"palavra\":\r\n",
    "    if letra == \"l\":\r\n",
    "        break\r\n",
    "    print(letra)\r\n",
    "\r\n",
    "print(\"Fim\")"
   ],
   "outputs": [
    {
     "output_type": "stream",
     "name": "stdout",
     "text": [
      "p\n",
      "a\n",
      "Fim\n"
     ]
    }
   ],
   "metadata": {
    "id": "7-7XEIu0Ajn-"
   }
  },
  {
   "cell_type": "code",
   "execution_count": 7,
   "source": [
    "for letra in \"palavra\":\r\n",
    "    if letra == \"l\":\r\n",
    "    #Se a letra é l, não executa o que está abaixo neste ciclo do for\r\n",
    "        continue\r\n",
    "    print(letra)\r\n",
    "    print('******&&')\r\n",
    "\r\n",
    "print(\"Fim\")"
   ],
   "outputs": [
    {
     "output_type": "stream",
     "name": "stdout",
     "text": [
      "p\n",
      "******&&\n",
      "a\n",
      "******&&\n",
      "a\n",
      "******&&\n",
      "v\n",
      "******&&\n",
      "r\n",
      "******&&\n",
      "a\n",
      "******&&\n",
      "Fim\n"
     ]
    }
   ],
   "metadata": {
    "id": "GBComiZRAjoC"
   }
  },
  {
   "cell_type": "markdown",
   "source": [
    "Podemos usar a cláusula else para loops também!"
   ],
   "metadata": {
    "id": "GcJ6ffn4AjoG"
   }
  },
  {
   "cell_type": "code",
   "execution_count": 8,
   "source": [
    "for i in range(1, 4):\r\n",
    "    print(i) \r\n",
    "else: \r\n",
    "    print(\"isto é escrito já que não há break no for :)\") \r\n"
   ],
   "outputs": [
    {
     "output_type": "stream",
     "name": "stdout",
     "text": [
      "1\n",
      "2\n",
      "3\n",
      "isto é escrito já que não há break no for :)\n"
     ]
    }
   ],
   "metadata": {
    "id": "aptNZE2QAjoG"
   }
  },
  {
   "cell_type": "code",
   "execution_count": 9,
   "source": [
    "# algoritmo para buscar números primos até m\r\n",
    "m=20\r\n",
    "for n in range(2, m):\r\n",
    "   # print('n é',n) \r\n",
    "    for x in range(2, n):    # loop de 2 a n-1\r\n",
    "      #  print('x é',x)\r\n",
    "        if n % x == 0:       # verifica se n é divisível por x\r\n",
    "            print(n, 'igual', x, '*', n//x)\r\n",
    "            break\r\n",
    "    else:\r\n",
    "        print(n, 'é um número primo')"
   ],
   "outputs": [
    {
     "output_type": "stream",
     "name": "stdout",
     "text": [
      "2 é um número primo\n",
      "3 é um número primo\n",
      "4 igual 2 * 2\n",
      "5 é um número primo\n",
      "6 igual 2 * 3\n",
      "7 é um número primo\n",
      "8 igual 2 * 4\n",
      "9 igual 3 * 3\n",
      "10 igual 2 * 5\n",
      "11 é um número primo\n",
      "12 igual 2 * 6\n",
      "13 é um número primo\n",
      "14 igual 2 * 7\n",
      "15 igual 3 * 5\n",
      "16 igual 2 * 8\n",
      "17 é um número primo\n",
      "18 igual 2 * 9\n",
      "19 é um número primo\n"
     ]
    }
   ],
   "metadata": {
    "pycharm": {
     "name": "#%%\n"
    }
   }
  },
  {
   "cell_type": "code",
   "execution_count": 10,
   "source": [
    "# algoritmo para buscar números primos até 10\r\n",
    "for n in range(2, 11):\r\n",
    "   # print('n é',n)\r\n",
    "    for x in range(2, n):    # loop de 2 a n-1\r\n",
    "      #  print('x é',x)\r\n",
    "        if n % x == 0:       # verifica se n é divisível por x\r\n",
    "            print(n, 'igual', x, '*', n//x)\r\n",
    "            break\r\n",
    "    else:\r\n",
    "        print(n, 'é um número primo')"
   ],
   "outputs": [
    {
     "output_type": "stream",
     "name": "stdout",
     "text": [
      "2 é um número primo\n",
      "3 é um número primo\n",
      "4 igual 2 * 2\n",
      "5 é um número primo\n",
      "6 igual 2 * 3\n",
      "7 é um número primo\n",
      "8 igual 2 * 4\n",
      "9 igual 3 * 3\n",
      "10 igual 2 * 5\n"
     ]
    }
   ],
   "metadata": {
    "id": "Z2FBOpowAjoK"
   }
  },
  {
   "cell_type": "markdown",
   "source": [
    "# Atividade da última aula: sequência de Fibonacci"
   ],
   "metadata": {
    "id": "fY0vtBCMAjm1"
   }
  },
  {
   "cell_type": "markdown",
   "source": [
    "Um algoritmo para imprimir os 20 primeiros números da Sequência de Fibonacci"
   ],
   "metadata": {
    "collapsed": false
   }
  },
  {
   "cell_type": "code",
   "execution_count": 11,
   "source": [
    "i=0     # define os dois primeiros números da sequência\r\n",
    "j=1\r\n",
    "print(i)\r\n",
    "print(j)\r\n",
    "contador=3                # inicializa o contador \r\n",
    "while contador <= 20:     # loop para determinar do terceiro ao vigésimo número da sequência\r\n",
    "    k=i+j                 # calcula o novo número da sequência k como a soma do último (j) e penúltimo (i) números\r\n",
    "    print(k)              # imprime novo número calculado\r\n",
    "    i=j                   # atualiza o i\r\n",
    "    j=k                   # atualiza o j\r\n",
    "    contador+=1           # atualiza o contador"
   ],
   "outputs": [
    {
     "output_type": "stream",
     "name": "stdout",
     "text": [
      "0\n",
      "1\n",
      "1\n",
      "2\n",
      "3\n",
      "5\n",
      "8\n",
      "13\n",
      "21\n",
      "34\n",
      "55\n",
      "89\n",
      "144\n",
      "233\n",
      "377\n",
      "610\n",
      "987\n",
      "1597\n",
      "2584\n",
      "4181\n"
     ]
    }
   ],
   "metadata": {
    "id": "HdAi12dKAjm4"
   }
  },
  {
   "cell_type": "markdown",
   "source": [
    "Para ajudar na visualização de como o algoritmo funciona\n",
    "$0 ~1 ~1 ~ 2~ 3 ~5 ~8 ... $\n",
    "$i ~ ~j ~k$\n",
    "$~~~ i  ~j ~~k$\n",
    "$~~~~~ i  ~~j ~~k$"
   ],
   "metadata": {
    "id": "eFqwVnDE1S7l"
   }
  },
  {
   "cell_type": "markdown",
   "source": [
    "Um algoritmo para imprimir os 20 primeiros números da Sequência de Fibonacci (mesmo algoritmo que o acima, só um pouco mais conciso)"
   ],
   "metadata": {
    "id": "mU_Lpgjpzvjy"
   }
  },
  {
   "cell_type": "code",
   "execution_count": 12,
   "source": [
    "i,j=0,1\r\n",
    "print(i)\r\n",
    "print(j)\r\n",
    "contador=3\r\n",
    "while contador <= 20:\r\n",
    "    print(i+j)\r\n",
    "    i,j=j,i+j   # atualiza variáveis i e j\r\n",
    "    contador+=1"
   ],
   "outputs": [
    {
     "output_type": "stream",
     "name": "stdout",
     "text": [
      "0\n",
      "1\n",
      "1\n",
      "2\n",
      "3\n",
      "5\n",
      "8\n",
      "13\n",
      "21\n",
      "34\n",
      "55\n",
      "89\n",
      "144\n",
      "233\n",
      "377\n",
      "610\n",
      "987\n",
      "1597\n",
      "2584\n",
      "4181\n"
     ]
    }
   ],
   "metadata": {
    "id": "GpDlWP94AjnB"
   }
  },
  {
   "cell_type": "markdown",
   "source": [
    "Mesmo algoritmo do exemplo acima, mas agora com um loop for"
   ],
   "metadata": {
    "id": "MqEtKCmCKWJd"
   }
  },
  {
   "cell_type": "code",
   "execution_count": 13,
   "source": [
    "i,j=0,1\r\n",
    "print(i)\r\n",
    "print(j)\r\n",
    "for m in range(3,21):\r\n",
    "    print(i+j)\r\n",
    "    i,j=j,i+j   # atualiza simultaneamente as variáveis i e j\r\n",
    "   "
   ],
   "outputs": [
    {
     "output_type": "stream",
     "name": "stdout",
     "text": [
      "0\n",
      "1\n",
      "1\n",
      "2\n",
      "3\n",
      "5\n",
      "8\n",
      "13\n",
      "21\n",
      "34\n",
      "55\n",
      "89\n",
      "144\n",
      "233\n",
      "377\n",
      "610\n",
      "987\n",
      "1597\n",
      "2584\n",
      "4181\n"
     ]
    }
   ],
   "metadata": {
    "id": "XBBv8ybQKA4J"
   }
  },
  {
   "cell_type": "markdown",
   "source": [
    "Outro algoritmo para imprimir os 20 primeiros números da Sequência de Fibonacci, agora usando listas\n"
   ],
   "metadata": {
    "id": "zNViWM2qz53U"
   }
  },
  {
   "cell_type": "code",
   "execution_count": 14,
   "source": [
    "l=[0,1]   #adiciona os dois primeiros números da sequência na lista l\r\n",
    "contador=3           # inicializa o contador\r\n",
    "while contador <= 20:       # loop para determinar do terceiro ao vigésimo número da sequência\r\n",
    "    l.append(l[-1]+l[-2])   # coloca ao final da lista l a soma dos dois últimos elementos dessa lista\r\n",
    "    contador+=1             # atualiza o contador\r\n",
    "print(l)"
   ],
   "outputs": [
    {
     "output_type": "stream",
     "name": "stdout",
     "text": [
      "[0, 1, 1, 2, 3, 5, 8, 13, 21, 34, 55, 89, 144, 233, 377, 610, 987, 1597, 2584, 4181]\n"
     ]
    }
   ],
   "metadata": {
    "id": "TueXrxjGAjnK"
   }
  },
  {
   "cell_type": "markdown",
   "source": [
    "# Funções"
   ],
   "metadata": {
    "id": "IhY9TJXgAjoQ"
   }
  },
  {
   "cell_type": "markdown",
   "source": [
    "def inicia a definição de uma função"
   ],
   "metadata": {
    "id": "EtimU860AjoS"
   }
  },
  {
   "cell_type": "code",
   "execution_count": 37,
   "source": [
    "def minha_funcao():\r\n",
    "    print('Olá! Esta é a minha função!')\r\n",
    "    \r\n",
    "minha_funcao()"
   ],
   "outputs": [
    {
     "output_type": "stream",
     "name": "stdout",
     "text": [
      "Olá! Esta é a minha função!\n"
     ]
    }
   ],
   "metadata": {
    "id": "dCQit_69AjoS"
   }
  },
  {
   "cell_type": "code",
   "execution_count": 16,
   "source": [
    "def minha_funcao_com_argumentos(nome,saudacao):\r\n",
    "    print('Olá, %s! Esta é a minha função! %s'%(nome,saudacao))\r\n",
    "    \r\n",
    "minha_funcao_com_argumentos('Cristina','Bem-vinda!')"
   ],
   "outputs": [
    {
     "output_type": "stream",
     "name": "stdout",
     "text": [
      "Olá, Cristina! Esta é a minha função! Bem-vinda!\n"
     ]
    }
   ],
   "metadata": {
    "id": "cTMPua7hAjoV"
   }
  },
  {
   "cell_type": "markdown",
   "source": [
    "Funções podem retornar um valor, utilizando o comando return"
   ],
   "metadata": {
    "id": "FU0kJd1sAjoZ"
   }
  },
  {
   "cell_type": "code",
   "execution_count": 17,
   "source": [
    "def soma(a,b):\r\n",
    "    return a+b\r\n",
    "\r\n",
    "soma(3,7)"
   ],
   "outputs": [
    {
     "output_type": "execute_result",
     "data": {
      "text/plain": [
       "10"
      ]
     },
     "metadata": {},
     "execution_count": 17
    }
   ],
   "metadata": {
    "id": "JSF5dJzsAjoa"
   }
  },
  {
   "cell_type": "markdown",
   "source": [
    "Funções com argumentos com valor padrão:"
   ],
   "metadata": {
    "id": "afSCx40qAjod"
   }
  },
  {
   "cell_type": "code",
   "execution_count": 18,
   "source": [
    "\"\"\"\n",
    "\n",
    "\"\"\"\n",
    "def minha_funcao_com_argumentos_padrao(nome='Fulano',saudacao='Seja feliz!'):\n",
    "    print('Olá, %s! Esta é a minha função! %s'%(nome,saudacao))\n",
    "    \n",
    "minha_funcao_com_argumentos_padrao('Cristina','Bem-vinda!')\n",
    "minha_funcao_com_argumentos_padrao('Cristina')\n",
    "minha_funcao_com_argumentos_padrao()"
   ],
   "outputs": [
    {
     "output_type": "stream",
     "name": "stdout",
     "text": [
      "Olá, Cristina! Esta é a minha função! Bem-vinda!\n",
      "Olá, Cristina! Esta é a minha função! Seja feliz!\n",
      "Olá, Fulano! Esta é a minha função! Seja feliz!\n"
     ]
    }
   ],
   "metadata": {
    "id": "n51Q67xEAjoe"
   }
  },
  {
   "cell_type": "markdown",
   "source": [
    "Função para escrever sequência de Fibonacci até o número n:"
   ],
   "metadata": {
    "id": "QGE9uVUhAjoi"
   }
  },
  {
   "cell_type": "code",
   "execution_count": 19,
   "source": [
    "\"\"\"  Imprime os números da sequência de Fibonacci ATÉ o número n.\r\n",
    " Isto é uma String de documentação (docstring).\r\n",
    " Algumas ferramentas de documentação utilizam as docstrings para produzir\r\n",
    " automaticamente a documentação online ou permitir que o usuário navegue\r\n",
    " mais facilmente pelo código.\r\n",
    " É uma boa prática de programação incluir sempre docstrings nas\r\n",
    " suas funções!! ;) \"\"\"\r\n",
    "def fib(n):\r\n",
    "    i, j = 0, 1\r\n",
    "    while i < n:\r\n",
    "        print(i, end=' ')  #O argumento end pode ser usado para evitar uma nova linha após a saída\r\n",
    "        i,j=j,i+j\r\n"
   ],
   "outputs": [],
   "metadata": {
    "id": "vXzUFIisAjoi",
    "pycharm": {
     "name": "#%%\n"
    }
   }
  },
  {
   "cell_type": "code",
   "execution_count": 20,
   "source": [
    "fib(20)"
   ],
   "outputs": [
    {
     "output_type": "stream",
     "name": "stdout",
     "text": [
      "0 1 1 2 3 5 8 13 "
     ]
    }
   ],
   "metadata": {
    "id": "WW1sCiNl4hTI"
   }
  },
  {
   "cell_type": "code",
   "execution_count": 21,
   "source": [
    "fib(0)"
   ],
   "outputs": [],
   "metadata": {
    "id": "b00DXW-u4iSk"
   }
  },
  {
   "cell_type": "code",
   "execution_count": 22,
   "source": [
    "print(fib(0))  #Mesmo funções que não usam o comando return devolvem um valor. "
   ],
   "outputs": [
    {
     "output_type": "stream",
     "name": "stdout",
     "text": [
      "None\n"
     ]
    }
   ],
   "metadata": {
    "id": "6PmFPfm04iym"
   }
  },
  {
   "cell_type": "markdown",
   "source": [
    "Podemos escrever uma função que devolve uma lista de números da sequência de Fibonacci:"
   ],
   "metadata": {
    "id": "s3peeHjTAjom"
   }
  },
  {
   "cell_type": "code",
   "execution_count": 23,
   "source": [
    "def fib_lista(n): \n",
    "    \"\"\"\n",
    "    Função que retorna uma lista contendo os números da sequência de Fibonacci \n",
    "    até o número n.\n",
    "    \"\"\"\n",
    "    lista=[]\n",
    "    i, j = 0, 1\n",
    "    while i < n:\n",
    "        lista.append(i)\n",
    "        i,j=j,i+j\n",
    "    return lista\n",
    "\n",
    "\n",
    "f20=fib_lista(20)\n",
    "f20"
   ],
   "outputs": [
    {
     "output_type": "execute_result",
     "data": {
      "text/plain": [
       "[0, 1, 1, 2, 3, 5, 8, 13]"
      ]
     },
     "metadata": {},
     "execution_count": 23
    }
   ],
   "metadata": {
    "id": "ilzm5H8qAjom"
   }
  },
  {
   "cell_type": "code",
   "execution_count": 24,
   "source": [
    "fib_lista(20)"
   ],
   "outputs": [
    {
     "output_type": "execute_result",
     "data": {
      "text/plain": [
       "[0, 1, 1, 2, 3, 5, 8, 13]"
      ]
     },
     "metadata": {},
     "execution_count": 24
    }
   ],
   "metadata": {
    "id": "HmBDXuxhwHj_"
   }
  },
  {
   "cell_type": "markdown",
   "source": [
    "O comando return finaliza a execução da função e retorna o seu valor. return sem qualquer expressão como argumento \n",
    "devolve None e se a função atinge o final e não há comando return, ela também devolve None.\n",
    "Exemplo:"
   ],
   "metadata": {
    "id": "i5a7z204Ajop"
   }
  },
  {
   "cell_type": "code",
   "execution_count": 25,
   "source": [
    "num = int(input(\"Digite um numero: \"))\n",
    "k=num*num\n",
    "print(f'O quadrado de {num} é {k:.0f}')\n",
    "\n"
   ],
   "outputs": [
    {
     "output_type": "stream",
     "name": "stdout",
     "text": [
      "O quadrado de 10 é 100\n"
     ]
    }
   ],
   "metadata": {
    "id": "UbtCnvnWAjoq"
   }
  },
  {
   "cell_type": "code",
   "execution_count": 26,
   "source": [
    "print(minha_funcao())"
   ],
   "outputs": [
    {
     "output_type": "stream",
     "name": "stdout",
     "text": [
      "Olá! Esta é a minha função!\n",
      "None\n"
     ]
    }
   ],
   "metadata": {
    "collapsed": false,
    "pycharm": {
     "name": "#%%\n"
    }
   }
  },
  {
   "cell_type": "code",
   "execution_count": 27,
   "source": [
    "def verificacao(pergunta, tentativas=2, lembrete='Tente novamente!'):\n",
    "    while True:\n",
    "        resposta = input(pergunta)\n",
    "        if resposta in ('s', 'si', 'sim'):\n",
    "            return True\n",
    "        if resposta in ('n', 'na', 'não', 'nao'):\n",
    "            return False\n",
    "        tentativas = tentativas - 1\n",
    "        if tentativas < 0:\n",
    "            print('Resposta inválida')\n",
    "            break\n",
    "        print(lembrete)\n",
    "\n",
    "verificacao('Você deseja cancelar?')\n"
   ],
   "outputs": [
    {
     "output_type": "stream",
     "name": "stdout",
     "text": [
      "Tente novamente!\n",
      "Tente novamente!\n",
      "Resposta inválida\n"
     ]
    }
   ],
   "metadata": {
    "id": "MmDgQGWIAjou"
   }
  },
  {
   "cell_type": "markdown",
   "source": [
    "No exemplo acima introduzimos a palavra-chave in, que verifica se uma sequência contém ou não um determinado valor. \n",
    "Também introduzimos a função input, que recebe um valor dado pelo usuário. É preciso pressionar Enter para o código prosseguir após fornecer o valor para a função input. A função input possui um parâmetro opcional, conhecido como prompt, que é uma string que aparece na tela toda vez que a função é chamada. \n",
    "\n",
    "Na função acima, o argumento 'pergunta' é obrigatório e os outros argumentos, na forma chave=valor, são opcionais. A função pode ser chamada das seguintes formas:"
   ],
   "metadata": {
    "id": "r01ImehOAjox"
   }
  },
  {
   "cell_type": "code",
   "execution_count": 28,
   "source": [
    "verificacao('Você deseja salvar o arquivo?',1)"
   ],
   "outputs": [
    {
     "output_type": "stream",
     "name": "stdout",
     "text": [
      "Tente novamente!\n",
      "Resposta inválida\n"
     ]
    }
   ],
   "metadata": {
    "id": "LCqpd-P1Ajox"
   }
  },
  {
   "cell_type": "code",
   "execution_count": 29,
   "source": [
    "verificacao('Você deseja salvar o arquivo?',lembrete='É assim tão difícil digitar sim ou não?')"
   ],
   "outputs": [
    {
     "output_type": "stream",
     "name": "stdout",
     "text": [
      "É assim tão difícil digitar sim ou não?\n",
      "É assim tão difícil digitar sim ou não?\n",
      "Resposta inválida\n"
     ]
    }
   ],
   "metadata": {
    "id": "NsRW6wOs5Bce"
   }
  },
  {
   "cell_type": "code",
   "execution_count": 30,
   "source": [
    "verificacao('Você deseja salvar o arquivo?',1, 'Responda sim ou não!!')"
   ],
   "outputs": [
    {
     "output_type": "stream",
     "name": "stdout",
     "text": [
      "Responda sim ou não!!\n",
      "Resposta inválida\n"
     ]
    }
   ],
   "metadata": {
    "id": "Ks_xFlNhAjo1"
   }
  },
  {
   "cell_type": "code",
   "execution_count": 31,
   "source": [
    "verificacao(lembrete='Tente mais uma vez', pergunta='Você deseja sobrescrever o arquivo?')"
   ],
   "outputs": [
    {
     "output_type": "stream",
     "name": "stdout",
     "text": [
      "Tente mais uma vez\n",
      "Tente mais uma vez\n",
      "Resposta inválida\n"
     ]
    }
   ],
   "metadata": {
    "id": "JsuEQkDKAjo7"
   }
  },
  {
   "cell_type": "markdown",
   "source": [
    "Já as seguintes formas de chamar a função verificação são inválidas:"
   ],
   "metadata": {
    "id": "I82Y1IejAjo9"
   }
  },
  {
   "cell_type": "code",
   "execution_count": 32,
   "source": [
    "verificacao()"
   ],
   "outputs": [
    {
     "output_type": "error",
     "ename": "TypeError",
     "evalue": "verificacao() missing 1 required positional argument: 'pergunta'",
     "traceback": [
      "\u001b[1;31m---------------------------------------------------------------------------\u001b[0m",
      "\u001b[1;31mTypeError\u001b[0m                                 Traceback (most recent call last)",
      "\u001b[1;32mC:\\Users\\ROBERT~1\\AppData\\Local\\Temp/ipykernel_11156/4292397284.py\u001b[0m in \u001b[0;36m<module>\u001b[1;34m\u001b[0m\n\u001b[1;32m----> 1\u001b[1;33m \u001b[0mverificacao\u001b[0m\u001b[1;33m(\u001b[0m\u001b[1;33m)\u001b[0m\u001b[1;33m\u001b[0m\u001b[1;33m\u001b[0m\u001b[0m\n\u001b[0m",
      "\u001b[1;31mTypeError\u001b[0m: verificacao() missing 1 required positional argument: 'pergunta'"
     ]
    }
   ],
   "metadata": {
    "id": "2-RHMIpdAjo-"
   }
  },
  {
   "cell_type": "code",
   "execution_count": null,
   "source": [
    "verificacao(question='Tem certeza que deseja excluir?')"
   ],
   "outputs": [],
   "metadata": {
    "id": "txyx7x2lAjpB"
   }
  },
  {
   "cell_type": "code",
   "execution_count": null,
   "source": [
    "verificacao('Tem certeza?',pergunta='isso mesmo?')"
   ],
   "outputs": [],
   "metadata": {
    "id": "_T5B7XXiAjpD"
   }
  },
  {
   "cell_type": "markdown",
   "source": [
    "Funções anônimas podem ser criadas com a palavra-chave lambda. As funções lambdas são restritas a uma única (em geral pequena) expressão. "
   ],
   "metadata": {
    "id": "inO1hv-gAjpH"
   }
  },
  {
   "cell_type": "code",
   "execution_count": null,
   "source": [
    "def quadrado(x):\n",
    "    return x**2\n",
    "\n",
    "f=quadrado(11)\n",
    "print(f)\n",
    "print(quadrado(12))"
   ],
   "outputs": [],
   "metadata": {
    "id": "fbuRN88sAjpI"
   }
  },
  {
   "cell_type": "code",
   "execution_count": null,
   "source": [
    "f2 = lambda x: x**2\n",
    "print(f2(6))\n",
    "\n",
    "f_soma = lambda a,b: a+b\n",
    "print(f_soma(5,9))"
   ],
   "outputs": [],
   "metadata": {
    "id": "Om6ZHH1hAjpK"
   }
  },
  {
   "cell_type": "code",
   "execution_count": null,
   "source": [
    "def incrementar(n):\n",
    "    return lambda x: x+n\n",
    "\n",
    "f=incrementar(6)\n",
    "f(9)"
   ],
   "outputs": [],
   "metadata": {
    "id": "seFlMTJsAjpP"
   }
  },
  {
   "cell_type": "code",
   "execution_count": null,
   "source": [
    "f3=lambda x: x+4\n",
    "f3(9)"
   ],
   "outputs": [],
   "metadata": {
    "id": "7THXVMiRVgkn"
   }
  },
  {
   "cell_type": "markdown",
   "source": [
    "# Estrutura de dados\n"
   ],
   "metadata": {
    "id": "t7GkIPsGR3Ky"
   }
  },
  {
   "cell_type": "markdown",
   "source": [
    "Veja a seguir mais métodos de objetos do tipo lista:"
   ],
   "metadata": {
    "id": "M-wz84F6AjpS"
   }
  },
  {
   "cell_type": "code",
   "execution_count": null,
   "source": [
    "l=[5,18,43,77,91,18,77]"
   ],
   "outputs": [],
   "metadata": {
    "id": "M0dBIpdnAjpT"
   }
  },
  {
   "cell_type": "markdown",
   "source": [
    "Adicionar um elemento ao final da lista"
   ],
   "metadata": {
    "id": "UvpCBAtv5SxJ"
   }
  },
  {
   "cell_type": "code",
   "execution_count": null,
   "source": [
    "l.append(100)\n",
    "print(l)"
   ],
   "outputs": [],
   "metadata": {
    "id": "35dmXc7HAjpU"
   }
  },
  {
   "cell_type": "markdown",
   "source": [
    "Inserir um elemento em uma dada posição. Nesse caso insere o elemento 9 na posição de índice 1. "
   ],
   "metadata": {
    "id": "kBQ6c7aF5XIz"
   }
  },
  {
   "cell_type": "code",
   "execution_count": null,
   "source": [
    "l.insert(1,9)\n",
    "print(l)"
   ],
   "outputs": [],
   "metadata": {
    "id": "MWCEvzVCAjpX"
   }
  },
  {
   "cell_type": "markdown",
   "source": [
    "Remover o primeiro elemento da lista que tem valor igual ao argumento (nesse caso remove o elemento 18)"
   ],
   "metadata": {
    "id": "ketvtP0d5egJ"
   }
  },
  {
   "cell_type": "code",
   "execution_count": null,
   "source": [
    "l.remove(18)\n",
    "print(l)"
   ],
   "outputs": [],
   "metadata": {
    "id": "L5FW-aTZAjpZ"
   }
  },
  {
   "cell_type": "markdown",
   "source": [
    "Contar o número de vezes que um elemento aparece na lista"
   ],
   "metadata": {
    "id": "mpHysBmk5ith"
   }
  },
  {
   "cell_type": "code",
   "execution_count": null,
   "source": [
    "l.count(77)"
   ],
   "outputs": [],
   "metadata": {
    "id": "M0HpH6lfAjpb"
   }
  },
  {
   "cell_type": "code",
   "execution_count": null,
   "source": [
    "print(l)"
   ],
   "outputs": [],
   "metadata": {
    "id": "CtsfVI2DAjpd"
   }
  },
  {
   "cell_type": "markdown",
   "source": [
    "Remover o elemento em uma dada posição. Esse método remove o elemento e o retorna. \n",
    "\n",
    "Nesse caso remove o elemento de índice 1."
   ],
   "metadata": {
    "id": "8oQ_C1OY5nys"
   }
  },
  {
   "cell_type": "code",
   "execution_count": null,
   "source": [
    "l.pop(1)"
   ],
   "outputs": [],
   "metadata": {
    "id": "X7tAe3_JAjph"
   }
  },
  {
   "cell_type": "code",
   "execution_count": null,
   "source": [
    "print(l)"
   ],
   "outputs": [],
   "metadata": {
    "id": "pMuZwicKAjpj"
   }
  },
  {
   "cell_type": "markdown",
   "source": [
    "Devolver o índice do primeiro elemento cujo valor é igual ao argumento (nesse caso 91)\n"
   ],
   "metadata": {
    "id": "6lKosaGq5sAf"
   }
  },
  {
   "cell_type": "code",
   "execution_count": null,
   "source": [
    "l.index(91)"
   ],
   "outputs": [],
   "metadata": {
    "id": "DcXX3HjpAjpl"
   }
  },
  {
   "cell_type": "code",
   "execution_count": null,
   "source": [
    "l.index(77)"
   ],
   "outputs": [],
   "metadata": {
    "id": "kK9a4QLKAjpn"
   }
  },
  {
   "cell_type": "code",
   "execution_count": null,
   "source": [
    "l.index(53)"
   ],
   "outputs": [],
   "metadata": {
    "id": "_-arrobkAjpr"
   }
  },
  {
   "cell_type": "markdown",
   "source": [
    "Ordenar os elementos da lista"
   ],
   "metadata": {
    "id": "gMzrZ4ok5vT-"
   }
  },
  {
   "cell_type": "code",
   "execution_count": null,
   "source": [
    "l.sort()\n",
    "print(l)"
   ],
   "outputs": [],
   "metadata": {
    "id": "kQNU2RfZAjpu"
   }
  },
  {
   "cell_type": "markdown",
   "source": [
    "Ordenar em ordem reversa"
   ],
   "metadata": {
    "id": "q12Heplp50FX"
   }
  },
  {
   "cell_type": "code",
   "execution_count": null,
   "source": [
    "l=[5, 43, 77, 91, 18, 77, 100]\n",
    "l.sort(reverse=True)  \n",
    "print(l)"
   ],
   "outputs": [],
   "metadata": {
    "id": "tKWkBFanAjpv"
   }
  },
  {
   "cell_type": "markdown",
   "source": [
    "Inverter a ordem dos elementos"
   ],
   "metadata": {
    "id": "MERcJaMu52xm"
   }
  },
  {
   "cell_type": "code",
   "execution_count": null,
   "source": [
    "l=[5, 43, 77, 91, 18, 77, 100]\n",
    "l.reverse()   \n",
    "print(l)"
   ],
   "outputs": [],
   "metadata": {
    "id": "K5DjtPYXAjpz"
   }
  },
  {
   "cell_type": "markdown",
   "source": [
    "Copiar os elementos da lista"
   ],
   "metadata": {
    "id": "npdHfX7M55wd"
   }
  },
  {
   "cell_type": "code",
   "execution_count": null,
   "source": [
    "l_c=l.copy()\n",
    "print(l_c)"
   ],
   "outputs": [],
   "metadata": {
    "id": "EHe-Ld7aAjp0"
   }
  },
  {
   "cell_type": "markdown",
   "source": [
    "Para iterar sobre uma lista, a posição e o valor podem ser obtidos simultaneamente com a função enumerate()"
   ],
   "metadata": {
    "id": "3ublU86359WV"
   }
  },
  {
   "cell_type": "code",
   "execution_count": null,
   "source": [
    "for i, v in enumerate(l_c):\n",
    "    print(i,v)"
   ],
   "outputs": [],
   "metadata": {
    "id": "8SE0oFJnAjp4"
   }
  },
  {
   "cell_type": "markdown",
   "source": [
    "Para percorrer duas ou mais listas ao mesmo tempo, as entradas podem ser pareadas com a função zip()"
   ],
   "metadata": {
    "id": "CR9ExcOM6AG5"
   }
  },
  {
   "cell_type": "code",
   "execution_count": null,
   "source": [
    "l1=[2.5,3.9,8.7]\n",
    "l2=[8.7,23.4,12.5]\n",
    "for a,b in zip(l1,l2):\n",
    "    print(a,b)"
   ],
   "outputs": [],
   "metadata": {
    "id": "mWfPRvksAjqG"
   }
  },
  {
   "cell_type": "markdown",
   "source": [
    "Uma lista pode ser percorrida na ordem inversa com a função reversed()"
   ],
   "metadata": {
    "id": "Qhj65A9N6C-B"
   }
  },
  {
   "cell_type": "code",
   "execution_count": null,
   "source": [
    "for z in reversed(range(10)):\n",
    "    print(z)"
   ],
   "outputs": [],
   "metadata": {
    "id": "dcWE2-2BAjqH"
   }
  },
  {
   "cell_type": "markdown",
   "source": [
    "# Atividade\n"
   ],
   "metadata": {
    "id": "0uFGhbyOW5RX"
   }
  },
  {
   "cell_type": "markdown",
   "source": [
    "**Exercício 1:**\n",
    "\n",
    "Responda ao questionário que está no Moodle.\n",
    "\n",
    "**Exercício 2:**\n",
    "\n",
    "Em Python, peça para o usuário entrar com um valor de temperatura em\n",
    "Celsius, transforme para Fahrenheit e imprima o valor na tela.\n",
    "Use uma função em Python para realizar a conversão de temperaturas.\n",
    "(Não é necessário entregar)\n",
    "\n",
    "**Exercício 3:**\n",
    "\n",
    "Crie uma função em Python para determinar os zeros da equação de\n",
    "segundo grau a*x**2 + b*x + c = 0. Não esqueça de levar em consideração\n",
    "as limitações e ambiguidades do algoritmo que fará este cálculo.\n",
    "(Não é necessário entregar)"
   ],
   "metadata": {
    "id": "0bUahQeAW7wM"
   }
  }
 ],
 "metadata": {
  "colab": {
   "collapsed_sections": [],
   "name": "aula_python_3.ipynb",
   "provenance": []
  },
  "kernelspec": {
   "name": "python3",
   "display_name": "Python 3.9.4 64-bit"
  },
  "language_info": {
   "codemirror_mode": {
    "name": "ipython",
    "version": 3
   },
   "file_extension": ".py",
   "mimetype": "text/x-python",
   "name": "python",
   "nbconvert_exporter": "python",
   "pygments_lexer": "ipython3",
   "version": "3.9.4"
  },
  "interpreter": {
   "hash": "17eb26eea0178c03dabd6c1bb0db391513174b690a5377910a73bff109667e1c"
  }
 },
 "nbformat": 4,
 "nbformat_minor": 1
}